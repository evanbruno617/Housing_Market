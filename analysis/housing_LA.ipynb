{
 "cells": [
  {
   "cell_type": "code",
   "execution_count": 1,
   "id": "dc4ef7b3",
   "metadata": {},
   "outputs": [],
   "source": [
    "import pandas as pd"
   ]
  },
  {
   "cell_type": "code",
   "execution_count": 2,
   "id": "1c1d40d8",
   "metadata": {},
   "outputs": [
    {
     "data": {
      "text/html": [
       "<div>\n",
       "<style scoped>\n",
       "    .dataframe tbody tr th:only-of-type {\n",
       "        vertical-align: middle;\n",
       "    }\n",
       "\n",
       "    .dataframe tbody tr th {\n",
       "        vertical-align: top;\n",
       "    }\n",
       "\n",
       "    .dataframe thead th {\n",
       "        text-align: right;\n",
       "    }\n",
       "</style>\n",
       "<table border=\"1\" class=\"dataframe\">\n",
       "  <thead>\n",
       "    <tr style=\"text-align: right;\">\n",
       "      <th></th>\n",
       "      <th>Unnamed: 0</th>\n",
       "      <th>Los Angeles County</th>\n",
       "      <th>Orange County</th>\n",
       "      <th>Ventura County</th>\n",
       "      <th>San Bernardino County</th>\n",
       "      <th>Riverside County</th>\n",
       "      <th>San Diego County</th>\n",
       "      <th>Santa Barbara County</th>\n",
       "    </tr>\n",
       "  </thead>\n",
       "  <tbody>\n",
       "    <tr>\n",
       "      <th>0</th>\n",
       "      <td>2022*</td>\n",
       "      <td>$860,230</td>\n",
       "      <td>$1,265,000</td>\n",
       "      <td>$930,000</td>\n",
       "      <td>$490,000</td>\n",
       "      <td>$645,000</td>\n",
       "      <td>$950,000</td>\n",
       "      <td>$1,250,000</td>\n",
       "    </tr>\n",
       "    <tr>\n",
       "      <th>1</th>\n",
       "      <td>2021</td>\n",
       "      <td>$826,500</td>\n",
       "      <td>$1,182,500</td>\n",
       "      <td>$850,000</td>\n",
       "      <td>$460,000</td>\n",
       "      <td>$586,000</td>\n",
       "      <td>$836,700</td>\n",
       "      <td>$937,500</td>\n",
       "    </tr>\n",
       "    <tr>\n",
       "      <th>2</th>\n",
       "      <td>2020</td>\n",
       "      <td>$660,000</td>\n",
       "      <td>$950,000</td>\n",
       "      <td>$740,000</td>\n",
       "      <td>$378,500</td>\n",
       "      <td>$488,250</td>\n",
       "      <td>$730,000</td>\n",
       "      <td>$970,000</td>\n",
       "    </tr>\n",
       "    <tr>\n",
       "      <th>3</th>\n",
       "      <td>2019</td>\n",
       "      <td>$641,340</td>\n",
       "      <td>$840,000</td>\n",
       "      <td>$657,000</td>\n",
       "      <td>$320,000</td>\n",
       "      <td>$420,000</td>\n",
       "      <td>$655,000</td>\n",
       "      <td>$770,000</td>\n",
       "    </tr>\n",
       "    <tr>\n",
       "      <th>4</th>\n",
       "      <td>2018</td>\n",
       "      <td>$588,140</td>\n",
       "      <td>$785,000</td>\n",
       "      <td>$640,000</td>\n",
       "      <td>$295,000</td>\n",
       "      <td>$398,000</td>\n",
       "      <td>$618,500</td>\n",
       "      <td>$840,000</td>\n",
       "    </tr>\n",
       "  </tbody>\n",
       "</table>\n",
       "</div>"
      ],
      "text/plain": [
       "  Unnamed: 0 Los Angeles County Orange County Ventura County  \\\n",
       "0      2022*           $860,230    $1,265,000       $930,000   \n",
       "1       2021           $826,500    $1,182,500       $850,000   \n",
       "2       2020           $660,000      $950,000       $740,000   \n",
       "3       2019           $641,340      $840,000       $657,000   \n",
       "4       2018           $588,140      $785,000       $640,000   \n",
       "\n",
       "  San Bernardino County Riverside County San Diego County Santa Barbara County  \n",
       "0              $490,000         $645,000         $950,000           $1,250,000  \n",
       "1              $460,000         $586,000         $836,700             $937,500  \n",
       "2              $378,500         $488,250         $730,000             $970,000  \n",
       "3              $320,000         $420,000         $655,000             $770,000  \n",
       "4              $295,000         $398,000         $618,500             $840,000  "
      ]
     },
     "execution_count": 2,
     "metadata": {},
     "output_type": "execute_result"
    }
   ],
   "source": [
    "housing = pd.read_csv(\"Housing_LA.csv\")\n",
    "housing.head()"
   ]
  },
  {
   "cell_type": "code",
   "execution_count": null,
   "id": "d47b737d",
   "metadata": {},
   "outputs": [],
   "source": []
  }
 ],
 "metadata": {
  "kernelspec": {
   "display_name": "PythonData",
   "language": "python",
   "name": "pythondata"
  },
  "language_info": {
   "codemirror_mode": {
    "name": "ipython",
    "version": 3
   },
   "file_extension": ".py",
   "mimetype": "text/x-python",
   "name": "python",
   "nbconvert_exporter": "python",
   "pygments_lexer": "ipython3",
   "version": "3.9.7"
  }
 },
 "nbformat": 4,
 "nbformat_minor": 5
}
