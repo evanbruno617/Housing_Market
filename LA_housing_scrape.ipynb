{
 "cells": [
  {
   "cell_type": "code",
   "execution_count": 2,
   "id": "e4c9c263",
   "metadata": {},
   "outputs": [],
   "source": [
    "# import dependencies \n",
    "import pandas as pd\n",
    "from splinter import Browser\n",
    "from bs4 import BeautifulSoup as soup\n",
    "import pandas as pd\n",
    "import datetime as dt\n",
    "from webdriver_manager.chrome import ChromeDriverManager\n",
    "import time\n",
    "import numpy as np\n",
    "import os\n",
    "import random"
   ]
  },
  {
   "cell_type": "code",
   "execution_count": 3,
   "id": "1840ae26",
   "metadata": {},
   "outputs": [
    {
     "name": "stderr",
     "output_type": "stream",
     "text": [
      "\n",
      "\n",
      "====== WebDriver manager ======\n",
      "Current google-chrome version is 104.0.5112\n",
      "Get LATEST chromedriver version for 104.0.5112 google-chrome\n",
      "Trying to download new driver from https://chromedriver.storage.googleapis.com/104.0.5112.79/chromedriver_mac64.zip\n",
      "Driver has been saved in cache [/Users/evanbruno/.wdm/drivers/chromedriver/mac64/104.0.5112.79]\n"
     ]
    }
   ],
   "source": [
    "\n",
    "# open browser\n",
    "executable_path = {'executable_path': ChromeDriverManager().install()}\n",
    "browser = Browser('chrome', **executable_path, headless=False)"
   ]
  },
  {
   "cell_type": "code",
   "execution_count": 4,
   "id": "79b19c9f",
   "metadata": {},
   "outputs": [],
   "source": [
    "url = \"http://www.laalmanac.com/economy/ec37.php\"\n",
    "browser.visit(url)"
   ]
  },
  {
   "cell_type": "code",
   "execution_count": 5,
   "id": "74ef3187",
   "metadata": {},
   "outputs": [],
   "source": [
    "html = browser.html\n",
    "test = soup(html, 'html.parser')"
   ]
  },
  {
   "cell_type": "code",
   "execution_count": 24,
   "id": "0c05149c",
   "metadata": {},
   "outputs": [],
   "source": [
    "counties = []\n",
    "for i in test.find(\"thead\").find_all(\"th\")[1:]:\n",
    "    counties.append(i.get_text())"
   ]
  },
  {
   "cell_type": "code",
   "execution_count": 19,
   "id": "49867420",
   "metadata": {},
   "outputs": [],
   "source": [
    "data = {}\n",
    "for row in test.find_all(\"tbody\")[0].find_all(\"tr\"):\n",
    "    year = row.find(class_=\"text-left\").get_text()\n",
    "    data[year] = []\n",
    "    for td in row.find_all(\"td\")[1:]:\n",
    "        data[year].append(td.get_text())"
   ]
  },
  {
   "cell_type": "code",
   "execution_count": 20,
   "id": "62b47394",
   "metadata": {},
   "outputs": [
    {
     "data": {
      "text/plain": [
       "{'2022*': ['$860,230',\n",
       "  '$1,265,000',\n",
       "  '$930,000',\n",
       "  '$490,000',\n",
       "  '$645,000',\n",
       "  '$950,000',\n",
       "  '$1,250,000'],\n",
       " '2021': ['$826,500',\n",
       "  '$1,182,500',\n",
       "  '$850,000',\n",
       "  '$460,000',\n",
       "  '$586,000',\n",
       "  '$836,700',\n",
       "  '$937,500'],\n",
       " '2020': ['$660,000',\n",
       "  '$950,000',\n",
       "  '$740,000',\n",
       "  '$378,500',\n",
       "  '$488,250',\n",
       "  '$730,000',\n",
       "  '$970,000'],\n",
       " '2019': ['$641,340',\n",
       "  '$840,000',\n",
       "  '$657,000',\n",
       "  '$320,000',\n",
       "  '$420,000',\n",
       "  '$655,000',\n",
       "  '$770,000'],\n",
       " '2018': ['$588,140',\n",
       "  '$785,000',\n",
       "  '$640,000',\n",
       "  '$295,000',\n",
       "  '$398,000',\n",
       "  '$618,500',\n",
       "  '$840,000']}"
      ]
     },
     "execution_count": 20,
     "metadata": {},
     "output_type": "execute_result"
    }
   ],
   "source": [
    "data"
   ]
  },
  {
   "cell_type": "code",
   "execution_count": 25,
   "id": "ca8434ff",
   "metadata": {},
   "outputs": [
    {
     "data": {
      "text/html": [
       "<div>\n",
       "<style scoped>\n",
       "    .dataframe tbody tr th:only-of-type {\n",
       "        vertical-align: middle;\n",
       "    }\n",
       "\n",
       "    .dataframe tbody tr th {\n",
       "        vertical-align: top;\n",
       "    }\n",
       "\n",
       "    .dataframe thead th {\n",
       "        text-align: right;\n",
       "    }\n",
       "</style>\n",
       "<table border=\"1\" class=\"dataframe\">\n",
       "  <thead>\n",
       "    <tr style=\"text-align: right;\">\n",
       "      <th></th>\n",
       "      <th>Los Angeles County</th>\n",
       "      <th>Orange County</th>\n",
       "      <th>Ventura County</th>\n",
       "      <th>San Bernardino County</th>\n",
       "      <th>Riverside County</th>\n",
       "      <th>San Diego County</th>\n",
       "      <th>Santa Barbara County</th>\n",
       "    </tr>\n",
       "  </thead>\n",
       "  <tbody>\n",
       "    <tr>\n",
       "      <th>2022*</th>\n",
       "      <td>$860,230</td>\n",
       "      <td>$1,265,000</td>\n",
       "      <td>$930,000</td>\n",
       "      <td>$490,000</td>\n",
       "      <td>$645,000</td>\n",
       "      <td>$950,000</td>\n",
       "      <td>$1,250,000</td>\n",
       "    </tr>\n",
       "    <tr>\n",
       "      <th>2021</th>\n",
       "      <td>$826,500</td>\n",
       "      <td>$1,182,500</td>\n",
       "      <td>$850,000</td>\n",
       "      <td>$460,000</td>\n",
       "      <td>$586,000</td>\n",
       "      <td>$836,700</td>\n",
       "      <td>$937,500</td>\n",
       "    </tr>\n",
       "    <tr>\n",
       "      <th>2020</th>\n",
       "      <td>$660,000</td>\n",
       "      <td>$950,000</td>\n",
       "      <td>$740,000</td>\n",
       "      <td>$378,500</td>\n",
       "      <td>$488,250</td>\n",
       "      <td>$730,000</td>\n",
       "      <td>$970,000</td>\n",
       "    </tr>\n",
       "    <tr>\n",
       "      <th>2019</th>\n",
       "      <td>$641,340</td>\n",
       "      <td>$840,000</td>\n",
       "      <td>$657,000</td>\n",
       "      <td>$320,000</td>\n",
       "      <td>$420,000</td>\n",
       "      <td>$655,000</td>\n",
       "      <td>$770,000</td>\n",
       "    </tr>\n",
       "    <tr>\n",
       "      <th>2018</th>\n",
       "      <td>$588,140</td>\n",
       "      <td>$785,000</td>\n",
       "      <td>$640,000</td>\n",
       "      <td>$295,000</td>\n",
       "      <td>$398,000</td>\n",
       "      <td>$618,500</td>\n",
       "      <td>$840,000</td>\n",
       "    </tr>\n",
       "  </tbody>\n",
       "</table>\n",
       "</div>"
      ],
      "text/plain": [
       "      Los Angeles County Orange County Ventura County San Bernardino County  \\\n",
       "2022*           $860,230    $1,265,000       $930,000              $490,000   \n",
       "2021            $826,500    $1,182,500       $850,000              $460,000   \n",
       "2020            $660,000      $950,000       $740,000              $378,500   \n",
       "2019            $641,340      $840,000       $657,000              $320,000   \n",
       "2018            $588,140      $785,000       $640,000              $295,000   \n",
       "\n",
       "      Riverside County San Diego County Santa Barbara County  \n",
       "2022*         $645,000         $950,000           $1,250,000  \n",
       "2021          $586,000         $836,700             $937,500  \n",
       "2020          $488,250         $730,000             $970,000  \n",
       "2019          $420,000         $655,000             $770,000  \n",
       "2018          $398,000         $618,500             $840,000  "
      ]
     },
     "execution_count": 25,
     "metadata": {},
     "output_type": "execute_result"
    }
   ],
   "source": [
    "pd.DataFrame.from_dict(data, orient = \"index\", columns=counties)"
   ]
  }
 ],
 "metadata": {
  "kernelspec": {
   "display_name": "PythonData",
   "language": "python",
   "name": "pythondata"
  },
  "language_info": {
   "codemirror_mode": {
    "name": "ipython",
    "version": 3
   },
   "file_extension": ".py",
   "mimetype": "text/x-python",
   "name": "python",
   "nbconvert_exporter": "python",
   "pygments_lexer": "ipython3",
   "version": "3.9.7"
  }
 },
 "nbformat": 4,
 "nbformat_minor": 5
}
