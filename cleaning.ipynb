{
 "cells": [
  {
   "cell_type": "code",
   "execution_count": 1,
   "id": "672e521e",
   "metadata": {},
   "outputs": [],
   "source": [
    "import pandas as pd"
   ]
  },
  {
   "cell_type": "code",
   "execution_count": 9,
   "id": "e9e5ada7",
   "metadata": {},
   "outputs": [
    {
     "data": {
      "text/html": [
       "<div>\n",
       "<style scoped>\n",
       "    .dataframe tbody tr th:only-of-type {\n",
       "        vertical-align: middle;\n",
       "    }\n",
       "\n",
       "    .dataframe tbody tr th {\n",
       "        vertical-align: top;\n",
       "    }\n",
       "\n",
       "    .dataframe thead th {\n",
       "        text-align: right;\n",
       "    }\n",
       "</style>\n",
       "<table border=\"1\" class=\"dataframe\">\n",
       "  <thead>\n",
       "    <tr style=\"text-align: right;\">\n",
       "      <th></th>\n",
       "      <th>date</th>\n",
       "      <th>Inflation Rate (%)</th>\n",
       "      <th>Annual Change</th>\n",
       "      <th></th>\n",
       "    </tr>\n",
       "  </thead>\n",
       "  <tbody>\n",
       "    <tr>\n",
       "      <th>0</th>\n",
       "      <td>1960-12-31</td>\n",
       "      <td>1.4580</td>\n",
       "      <td>NaN</td>\n",
       "      <td>NaN</td>\n",
       "    </tr>\n",
       "    <tr>\n",
       "      <th>1</th>\n",
       "      <td>1961-12-31</td>\n",
       "      <td>1.0707</td>\n",
       "      <td>-0.39</td>\n",
       "      <td>NaN</td>\n",
       "    </tr>\n",
       "    <tr>\n",
       "      <th>2</th>\n",
       "      <td>1962-12-31</td>\n",
       "      <td>1.1988</td>\n",
       "      <td>0.13</td>\n",
       "      <td>NaN</td>\n",
       "    </tr>\n",
       "    <tr>\n",
       "      <th>3</th>\n",
       "      <td>1963-12-31</td>\n",
       "      <td>1.2397</td>\n",
       "      <td>0.04</td>\n",
       "      <td>NaN</td>\n",
       "    </tr>\n",
       "    <tr>\n",
       "      <th>4</th>\n",
       "      <td>1964-12-31</td>\n",
       "      <td>1.2789</td>\n",
       "      <td>0.04</td>\n",
       "      <td>NaN</td>\n",
       "    </tr>\n",
       "  </tbody>\n",
       "</table>\n",
       "</div>"
      ],
      "text/plain": [
       "         date   Inflation Rate (%)   Annual Change    \n",
       "0  1960-12-31               1.4580             NaN NaN\n",
       "1  1961-12-31               1.0707           -0.39 NaN\n",
       "2  1962-12-31               1.1988            0.13 NaN\n",
       "3  1963-12-31               1.2397            0.04 NaN\n",
       "4  1964-12-31               1.2789            0.04 NaN"
      ]
     },
     "execution_count": 9,
     "metadata": {},
     "output_type": "execute_result"
    }
   ],
   "source": [
    "#read in csv\n",
    "inflation = pd.read_csv(\"united_states_inflation_rate_cpi.csv\", skiprows=16)\n",
    "inflation.head()"
   ]
  },
  {
   "cell_type": "code",
   "execution_count": 20,
   "id": "acd04a3c",
   "metadata": {},
   "outputs": [],
   "source": [
    "# filter for year after 2006\n",
    "inflation = inflation.loc[inflation[\"date\"] > \"2006\"]"
   ]
  },
  {
   "cell_type": "code",
   "execution_count": 23,
   "id": "c3e64596",
   "metadata": {},
   "outputs": [],
   "source": [
    "# obtain only the year\n",
    "new_date = []\n",
    "for date in inflation[\"date\"]:\n",
    "    new_date.append(date[:4])\n",
    "inflation[\"date\"] = new_date"
   ]
  },
  {
   "cell_type": "code",
   "execution_count": 24,
   "id": "9527afba",
   "metadata": {},
   "outputs": [],
   "source": [
    "# to csv\n",
    "inflation.to_csv(\"inflation.csv\")"
   ]
  },
  {
   "cell_type": "code",
   "execution_count": null,
   "id": "1763efcc",
   "metadata": {},
   "outputs": [],
   "source": []
  }
 ],
 "metadata": {
  "kernelspec": {
   "display_name": "PythonData",
   "language": "python",
   "name": "pythondata"
  },
  "language_info": {
   "codemirror_mode": {
    "name": "ipython",
    "version": 3
   },
   "file_extension": ".py",
   "mimetype": "text/x-python",
   "name": "python",
   "nbconvert_exporter": "python",
   "pygments_lexer": "ipython3",
   "version": "3.9.7"
  }
 },
 "nbformat": 4,
 "nbformat_minor": 5
}
